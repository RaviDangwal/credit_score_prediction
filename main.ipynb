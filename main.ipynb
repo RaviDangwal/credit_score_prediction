{
 "cells": [
  {
   "cell_type": "markdown",
   "metadata": {},
   "source": [
    "# Credit Score Prediction"
   ]
  },
  {
   "cell_type": "markdown",
   "metadata": {},
   "source": [
    "## Importing the required Packages"
   ]
  },
  {
   "cell_type": "code",
   "execution_count": 1059,
   "metadata": {},
   "outputs": [],
   "source": [
    "import pandas as pd\n",
    "import numpy as np\n",
    "import seaborn as sns\n",
    "import matplotlib.pyplot as plt"
   ]
  },
  {
   "cell_type": "code",
   "execution_count": 1060,
   "metadata": {},
   "outputs": [],
   "source": [
    "import warnings\n",
    "\n",
    "warnings.filterwarnings(action='ignore')"
   ]
  },
  {
   "cell_type": "markdown",
   "metadata": {},
   "source": [
    "## Reading the data"
   ]
  },
  {
   "cell_type": "code",
   "execution_count": 1061,
   "metadata": {},
   "outputs": [
    {
     "data": {
      "text/html": [
       "<div>\n",
       "<style scoped>\n",
       "    .dataframe tbody tr th:only-of-type {\n",
       "        vertical-align: middle;\n",
       "    }\n",
       "\n",
       "    .dataframe tbody tr th {\n",
       "        vertical-align: top;\n",
       "    }\n",
       "\n",
       "    .dataframe thead th {\n",
       "        text-align: right;\n",
       "    }\n",
       "</style>\n",
       "<table border=\"1\" class=\"dataframe\">\n",
       "  <thead>\n",
       "    <tr style=\"text-align: right;\">\n",
       "      <th></th>\n",
       "      <th>ID</th>\n",
       "      <th>Customer_ID</th>\n",
       "      <th>Month</th>\n",
       "      <th>Name</th>\n",
       "      <th>Age</th>\n",
       "      <th>SSN</th>\n",
       "      <th>Occupation</th>\n",
       "      <th>Annual_Income</th>\n",
       "      <th>Monthly_Inhand_Salary</th>\n",
       "      <th>Num_Bank_Accounts</th>\n",
       "      <th>...</th>\n",
       "      <th>Credit_Mix</th>\n",
       "      <th>Outstanding_Debt</th>\n",
       "      <th>Credit_Utilization_Ratio</th>\n",
       "      <th>Credit_History_Age</th>\n",
       "      <th>Payment_of_Min_Amount</th>\n",
       "      <th>Total_EMI_per_month</th>\n",
       "      <th>Amount_invested_monthly</th>\n",
       "      <th>Payment_Behaviour</th>\n",
       "      <th>Monthly_Balance</th>\n",
       "      <th>Credit_Score</th>\n",
       "    </tr>\n",
       "  </thead>\n",
       "  <tbody>\n",
       "    <tr>\n",
       "      <th>0</th>\n",
       "      <td>0x1602</td>\n",
       "      <td>CUS_0xd40</td>\n",
       "      <td>January</td>\n",
       "      <td>Aaron Maashoh</td>\n",
       "      <td>23</td>\n",
       "      <td>821-00-0265</td>\n",
       "      <td>Scientist</td>\n",
       "      <td>19114.12</td>\n",
       "      <td>1824.843333</td>\n",
       "      <td>3</td>\n",
       "      <td>...</td>\n",
       "      <td>_</td>\n",
       "      <td>809.98</td>\n",
       "      <td>26.822620</td>\n",
       "      <td>22 Years and 1 Months</td>\n",
       "      <td>No</td>\n",
       "      <td>49.574949</td>\n",
       "      <td>80.41529544</td>\n",
       "      <td>High_spent_Small_value_payments</td>\n",
       "      <td>312.4940887</td>\n",
       "      <td>Good</td>\n",
       "    </tr>\n",
       "    <tr>\n",
       "      <th>1</th>\n",
       "      <td>0x1603</td>\n",
       "      <td>CUS_0xd40</td>\n",
       "      <td>February</td>\n",
       "      <td>Aaron Maashoh</td>\n",
       "      <td>23</td>\n",
       "      <td>821-00-0265</td>\n",
       "      <td>Scientist</td>\n",
       "      <td>19114.12</td>\n",
       "      <td>NaN</td>\n",
       "      <td>3</td>\n",
       "      <td>...</td>\n",
       "      <td>Good</td>\n",
       "      <td>809.98</td>\n",
       "      <td>31.944960</td>\n",
       "      <td>NaN</td>\n",
       "      <td>No</td>\n",
       "      <td>49.574949</td>\n",
       "      <td>118.2802216</td>\n",
       "      <td>Low_spent_Large_value_payments</td>\n",
       "      <td>284.6291625</td>\n",
       "      <td>Good</td>\n",
       "    </tr>\n",
       "    <tr>\n",
       "      <th>2</th>\n",
       "      <td>0x1604</td>\n",
       "      <td>CUS_0xd40</td>\n",
       "      <td>March</td>\n",
       "      <td>Aaron Maashoh</td>\n",
       "      <td>-500</td>\n",
       "      <td>821-00-0265</td>\n",
       "      <td>Scientist</td>\n",
       "      <td>19114.12</td>\n",
       "      <td>NaN</td>\n",
       "      <td>3</td>\n",
       "      <td>...</td>\n",
       "      <td>Good</td>\n",
       "      <td>809.98</td>\n",
       "      <td>28.609352</td>\n",
       "      <td>22 Years and 3 Months</td>\n",
       "      <td>No</td>\n",
       "      <td>49.574949</td>\n",
       "      <td>81.69952126</td>\n",
       "      <td>Low_spent_Medium_value_payments</td>\n",
       "      <td>331.2098629</td>\n",
       "      <td>Good</td>\n",
       "    </tr>\n",
       "    <tr>\n",
       "      <th>3</th>\n",
       "      <td>0x1605</td>\n",
       "      <td>CUS_0xd40</td>\n",
       "      <td>April</td>\n",
       "      <td>Aaron Maashoh</td>\n",
       "      <td>23</td>\n",
       "      <td>821-00-0265</td>\n",
       "      <td>Scientist</td>\n",
       "      <td>19114.12</td>\n",
       "      <td>NaN</td>\n",
       "      <td>3</td>\n",
       "      <td>...</td>\n",
       "      <td>Good</td>\n",
       "      <td>809.98</td>\n",
       "      <td>31.377862</td>\n",
       "      <td>22 Years and 4 Months</td>\n",
       "      <td>No</td>\n",
       "      <td>49.574949</td>\n",
       "      <td>199.4580744</td>\n",
       "      <td>Low_spent_Small_value_payments</td>\n",
       "      <td>223.4513097</td>\n",
       "      <td>Good</td>\n",
       "    </tr>\n",
       "    <tr>\n",
       "      <th>4</th>\n",
       "      <td>0x1606</td>\n",
       "      <td>CUS_0xd40</td>\n",
       "      <td>May</td>\n",
       "      <td>Aaron Maashoh</td>\n",
       "      <td>23</td>\n",
       "      <td>821-00-0265</td>\n",
       "      <td>Scientist</td>\n",
       "      <td>19114.12</td>\n",
       "      <td>1824.843333</td>\n",
       "      <td>3</td>\n",
       "      <td>...</td>\n",
       "      <td>Good</td>\n",
       "      <td>809.98</td>\n",
       "      <td>24.797347</td>\n",
       "      <td>22 Years and 5 Months</td>\n",
       "      <td>No</td>\n",
       "      <td>49.574949</td>\n",
       "      <td>41.42015309</td>\n",
       "      <td>High_spent_Medium_value_payments</td>\n",
       "      <td>341.489231</td>\n",
       "      <td>Good</td>\n",
       "    </tr>\n",
       "  </tbody>\n",
       "</table>\n",
       "<p>5 rows × 28 columns</p>\n",
       "</div>"
      ],
      "text/plain": [
       "       ID Customer_ID     Month           Name   Age          SSN Occupation  \\\n",
       "0  0x1602   CUS_0xd40   January  Aaron Maashoh    23  821-00-0265  Scientist   \n",
       "1  0x1603   CUS_0xd40  February  Aaron Maashoh    23  821-00-0265  Scientist   \n",
       "2  0x1604   CUS_0xd40     March  Aaron Maashoh  -500  821-00-0265  Scientist   \n",
       "3  0x1605   CUS_0xd40     April  Aaron Maashoh    23  821-00-0265  Scientist   \n",
       "4  0x1606   CUS_0xd40       May  Aaron Maashoh    23  821-00-0265  Scientist   \n",
       "\n",
       "  Annual_Income  Monthly_Inhand_Salary  Num_Bank_Accounts  ...  Credit_Mix  \\\n",
       "0      19114.12            1824.843333                  3  ...           _   \n",
       "1      19114.12                    NaN                  3  ...        Good   \n",
       "2      19114.12                    NaN                  3  ...        Good   \n",
       "3      19114.12                    NaN                  3  ...        Good   \n",
       "4      19114.12            1824.843333                  3  ...        Good   \n",
       "\n",
       "   Outstanding_Debt Credit_Utilization_Ratio     Credit_History_Age  \\\n",
       "0            809.98                26.822620  22 Years and 1 Months   \n",
       "1            809.98                31.944960                    NaN   \n",
       "2            809.98                28.609352  22 Years and 3 Months   \n",
       "3            809.98                31.377862  22 Years and 4 Months   \n",
       "4            809.98                24.797347  22 Years and 5 Months   \n",
       "\n",
       "   Payment_of_Min_Amount Total_EMI_per_month Amount_invested_monthly  \\\n",
       "0                     No           49.574949             80.41529544   \n",
       "1                     No           49.574949             118.2802216   \n",
       "2                     No           49.574949             81.69952126   \n",
       "3                     No           49.574949             199.4580744   \n",
       "4                     No           49.574949             41.42015309   \n",
       "\n",
       "                  Payment_Behaviour Monthly_Balance Credit_Score  \n",
       "0   High_spent_Small_value_payments     312.4940887         Good  \n",
       "1    Low_spent_Large_value_payments     284.6291625         Good  \n",
       "2   Low_spent_Medium_value_payments     331.2098629         Good  \n",
       "3    Low_spent_Small_value_payments     223.4513097         Good  \n",
       "4  High_spent_Medium_value_payments      341.489231         Good  \n",
       "\n",
       "[5 rows x 28 columns]"
      ]
     },
     "execution_count": 1061,
     "metadata": {},
     "output_type": "execute_result"
    }
   ],
   "source": [
    "df=pd.read_csv(\"dataset.csv\")\n",
    "df.head()\n"
   ]
  },
  {
   "cell_type": "markdown",
   "metadata": {},
   "source": [
    "## Exploratory data analysis (EDA)"
   ]
  },
  {
   "cell_type": "code",
   "execution_count": 1062,
   "metadata": {},
   "outputs": [
    {
     "data": {
      "text/plain": [
       "(100000, 28)"
      ]
     },
     "execution_count": 1062,
     "metadata": {},
     "output_type": "execute_result"
    }
   ],
   "source": [
    "df.shape"
   ]
  },
  {
   "cell_type": "code",
   "execution_count": 1063,
   "metadata": {},
   "outputs": [
    {
     "name": "stdout",
     "output_type": "stream",
     "text": [
      "<class 'pandas.core.frame.DataFrame'>\n",
      "RangeIndex: 100000 entries, 0 to 99999\n",
      "Data columns (total 28 columns):\n",
      " #   Column                    Non-Null Count   Dtype  \n",
      "---  ------                    --------------   -----  \n",
      " 0   ID                        100000 non-null  object \n",
      " 1   Customer_ID               100000 non-null  object \n",
      " 2   Month                     100000 non-null  object \n",
      " 3   Name                      90015 non-null   object \n",
      " 4   Age                       100000 non-null  object \n",
      " 5   SSN                       100000 non-null  object \n",
      " 6   Occupation                100000 non-null  object \n",
      " 7   Annual_Income             100000 non-null  object \n",
      " 8   Monthly_Inhand_Salary     84998 non-null   float64\n",
      " 9   Num_Bank_Accounts         100000 non-null  int64  \n",
      " 10  Num_Credit_Card           100000 non-null  int64  \n",
      " 11  Interest_Rate             100000 non-null  int64  \n",
      " 12  Num_of_Loan               100000 non-null  object \n",
      " 13  Type_of_Loan              88592 non-null   object \n",
      " 14  Delay_from_due_date       100000 non-null  int64  \n",
      " 15  Num_of_Delayed_Payment    92998 non-null   object \n",
      " 16  Changed_Credit_Limit      100000 non-null  object \n",
      " 17  Num_Credit_Inquiries      98035 non-null   float64\n",
      " 18  Credit_Mix                100000 non-null  object \n",
      " 19  Outstanding_Debt          100000 non-null  object \n",
      " 20  Credit_Utilization_Ratio  100000 non-null  float64\n",
      " 21  Credit_History_Age        90970 non-null   object \n",
      " 22  Payment_of_Min_Amount     100000 non-null  object \n",
      " 23  Total_EMI_per_month       100000 non-null  float64\n",
      " 24  Amount_invested_monthly   95521 non-null   object \n",
      " 25  Payment_Behaviour         100000 non-null  object \n",
      " 26  Monthly_Balance           98800 non-null   object \n",
      " 27  Credit_Score              100000 non-null  object \n",
      "dtypes: float64(4), int64(4), object(20)\n",
      "memory usage: 21.4+ MB\n"
     ]
    }
   ],
   "source": [
    "df.info()"
   ]
  },
  {
   "cell_type": "code",
   "execution_count": 1064,
   "metadata": {},
   "outputs": [
    {
     "data": {
      "text/html": [
       "<div>\n",
       "<style scoped>\n",
       "    .dataframe tbody tr th:only-of-type {\n",
       "        vertical-align: middle;\n",
       "    }\n",
       "\n",
       "    .dataframe tbody tr th {\n",
       "        vertical-align: top;\n",
       "    }\n",
       "\n",
       "    .dataframe thead th {\n",
       "        text-align: right;\n",
       "    }\n",
       "</style>\n",
       "<table border=\"1\" class=\"dataframe\">\n",
       "  <thead>\n",
       "    <tr style=\"text-align: right;\">\n",
       "      <th></th>\n",
       "      <th>count</th>\n",
       "      <th>mean</th>\n",
       "      <th>std</th>\n",
       "      <th>min</th>\n",
       "      <th>25%</th>\n",
       "      <th>50%</th>\n",
       "      <th>75%</th>\n",
       "      <th>max</th>\n",
       "    </tr>\n",
       "  </thead>\n",
       "  <tbody>\n",
       "    <tr>\n",
       "      <th>Monthly_Inhand_Salary</th>\n",
       "      <td>84998.0</td>\n",
       "      <td>4194.170850</td>\n",
       "      <td>3183.686167</td>\n",
       "      <td>303.645417</td>\n",
       "      <td>1625.568229</td>\n",
       "      <td>3093.745000</td>\n",
       "      <td>5957.448333</td>\n",
       "      <td>15204.63333</td>\n",
       "    </tr>\n",
       "    <tr>\n",
       "      <th>Num_Bank_Accounts</th>\n",
       "      <td>100000.0</td>\n",
       "      <td>17.091280</td>\n",
       "      <td>117.404834</td>\n",
       "      <td>-1.000000</td>\n",
       "      <td>3.000000</td>\n",
       "      <td>6.000000</td>\n",
       "      <td>7.000000</td>\n",
       "      <td>1798.00000</td>\n",
       "    </tr>\n",
       "    <tr>\n",
       "      <th>Num_Credit_Card</th>\n",
       "      <td>100000.0</td>\n",
       "      <td>22.474430</td>\n",
       "      <td>129.057410</td>\n",
       "      <td>0.000000</td>\n",
       "      <td>4.000000</td>\n",
       "      <td>5.000000</td>\n",
       "      <td>7.000000</td>\n",
       "      <td>1499.00000</td>\n",
       "    </tr>\n",
       "    <tr>\n",
       "      <th>Interest_Rate</th>\n",
       "      <td>100000.0</td>\n",
       "      <td>72.466040</td>\n",
       "      <td>466.422621</td>\n",
       "      <td>1.000000</td>\n",
       "      <td>8.000000</td>\n",
       "      <td>13.000000</td>\n",
       "      <td>20.000000</td>\n",
       "      <td>5797.00000</td>\n",
       "    </tr>\n",
       "    <tr>\n",
       "      <th>Delay_from_due_date</th>\n",
       "      <td>100000.0</td>\n",
       "      <td>21.068780</td>\n",
       "      <td>14.860104</td>\n",
       "      <td>-5.000000</td>\n",
       "      <td>10.000000</td>\n",
       "      <td>18.000000</td>\n",
       "      <td>28.000000</td>\n",
       "      <td>67.00000</td>\n",
       "    </tr>\n",
       "    <tr>\n",
       "      <th>Num_Credit_Inquiries</th>\n",
       "      <td>98035.0</td>\n",
       "      <td>27.754251</td>\n",
       "      <td>193.177339</td>\n",
       "      <td>0.000000</td>\n",
       "      <td>3.000000</td>\n",
       "      <td>6.000000</td>\n",
       "      <td>9.000000</td>\n",
       "      <td>2597.00000</td>\n",
       "    </tr>\n",
       "    <tr>\n",
       "      <th>Credit_Utilization_Ratio</th>\n",
       "      <td>100000.0</td>\n",
       "      <td>32.285173</td>\n",
       "      <td>5.116875</td>\n",
       "      <td>20.000000</td>\n",
       "      <td>28.052567</td>\n",
       "      <td>32.305784</td>\n",
       "      <td>36.496663</td>\n",
       "      <td>50.00000</td>\n",
       "    </tr>\n",
       "    <tr>\n",
       "      <th>Total_EMI_per_month</th>\n",
       "      <td>100000.0</td>\n",
       "      <td>1403.118217</td>\n",
       "      <td>8306.041270</td>\n",
       "      <td>0.000000</td>\n",
       "      <td>30.306660</td>\n",
       "      <td>69.249473</td>\n",
       "      <td>161.224249</td>\n",
       "      <td>82331.00000</td>\n",
       "    </tr>\n",
       "  </tbody>\n",
       "</table>\n",
       "</div>"
      ],
      "text/plain": [
       "                             count         mean          std         min  \\\n",
       "Monthly_Inhand_Salary      84998.0  4194.170850  3183.686167  303.645417   \n",
       "Num_Bank_Accounts         100000.0    17.091280   117.404834   -1.000000   \n",
       "Num_Credit_Card           100000.0    22.474430   129.057410    0.000000   \n",
       "Interest_Rate             100000.0    72.466040   466.422621    1.000000   \n",
       "Delay_from_due_date       100000.0    21.068780    14.860104   -5.000000   \n",
       "Num_Credit_Inquiries       98035.0    27.754251   193.177339    0.000000   \n",
       "Credit_Utilization_Ratio  100000.0    32.285173     5.116875   20.000000   \n",
       "Total_EMI_per_month       100000.0  1403.118217  8306.041270    0.000000   \n",
       "\n",
       "                                  25%          50%          75%          max  \n",
       "Monthly_Inhand_Salary     1625.568229  3093.745000  5957.448333  15204.63333  \n",
       "Num_Bank_Accounts            3.000000     6.000000     7.000000   1798.00000  \n",
       "Num_Credit_Card              4.000000     5.000000     7.000000   1499.00000  \n",
       "Interest_Rate                8.000000    13.000000    20.000000   5797.00000  \n",
       "Delay_from_due_date         10.000000    18.000000    28.000000     67.00000  \n",
       "Num_Credit_Inquiries         3.000000     6.000000     9.000000   2597.00000  \n",
       "Credit_Utilization_Ratio    28.052567    32.305784    36.496663     50.00000  \n",
       "Total_EMI_per_month         30.306660    69.249473   161.224249  82331.00000  "
      ]
     },
     "execution_count": 1064,
     "metadata": {},
     "output_type": "execute_result"
    }
   ],
   "source": [
    "df.describe().T"
   ]
  },
  {
   "cell_type": "code",
   "execution_count": 1065,
   "metadata": {},
   "outputs": [
    {
     "data": {
      "text/html": [
       "<div>\n",
       "<style scoped>\n",
       "    .dataframe tbody tr th:only-of-type {\n",
       "        vertical-align: middle;\n",
       "    }\n",
       "\n",
       "    .dataframe tbody tr th {\n",
       "        vertical-align: top;\n",
       "    }\n",
       "\n",
       "    .dataframe thead th {\n",
       "        text-align: right;\n",
       "    }\n",
       "</style>\n",
       "<table border=\"1\" class=\"dataframe\">\n",
       "  <thead>\n",
       "    <tr style=\"text-align: right;\">\n",
       "      <th></th>\n",
       "      <th>ID</th>\n",
       "      <th>Customer_ID</th>\n",
       "      <th>Month</th>\n",
       "      <th>Name</th>\n",
       "      <th>Age</th>\n",
       "      <th>SSN</th>\n",
       "      <th>Occupation</th>\n",
       "      <th>Annual_Income</th>\n",
       "      <th>Monthly_Inhand_Salary</th>\n",
       "      <th>Num_Bank_Accounts</th>\n",
       "      <th>...</th>\n",
       "      <th>Credit_Mix</th>\n",
       "      <th>Outstanding_Debt</th>\n",
       "      <th>Credit_Utilization_Ratio</th>\n",
       "      <th>Credit_History_Age</th>\n",
       "      <th>Payment_of_Min_Amount</th>\n",
       "      <th>Total_EMI_per_month</th>\n",
       "      <th>Amount_invested_monthly</th>\n",
       "      <th>Payment_Behaviour</th>\n",
       "      <th>Monthly_Balance</th>\n",
       "      <th>Credit_Score</th>\n",
       "    </tr>\n",
       "  </thead>\n",
       "  <tbody>\n",
       "    <tr>\n",
       "      <th>0</th>\n",
       "      <td>0x1602</td>\n",
       "      <td>CUS_0xd40</td>\n",
       "      <td>January</td>\n",
       "      <td>Aaron Maashoh</td>\n",
       "      <td>23</td>\n",
       "      <td>821-00-0265</td>\n",
       "      <td>Scientist</td>\n",
       "      <td>19114.12</td>\n",
       "      <td>1824.843333</td>\n",
       "      <td>3</td>\n",
       "      <td>...</td>\n",
       "      <td>_</td>\n",
       "      <td>809.98</td>\n",
       "      <td>26.822620</td>\n",
       "      <td>22 Years and 1 Months</td>\n",
       "      <td>No</td>\n",
       "      <td>49.574949</td>\n",
       "      <td>80.41529544</td>\n",
       "      <td>High_spent_Small_value_payments</td>\n",
       "      <td>312.4940887</td>\n",
       "      <td>Good</td>\n",
       "    </tr>\n",
       "    <tr>\n",
       "      <th>1</th>\n",
       "      <td>0x1603</td>\n",
       "      <td>CUS_0xd40</td>\n",
       "      <td>February</td>\n",
       "      <td>Aaron Maashoh</td>\n",
       "      <td>23</td>\n",
       "      <td>821-00-0265</td>\n",
       "      <td>Scientist</td>\n",
       "      <td>19114.12</td>\n",
       "      <td>NaN</td>\n",
       "      <td>3</td>\n",
       "      <td>...</td>\n",
       "      <td>Good</td>\n",
       "      <td>809.98</td>\n",
       "      <td>31.944960</td>\n",
       "      <td>NaN</td>\n",
       "      <td>No</td>\n",
       "      <td>49.574949</td>\n",
       "      <td>118.2802216</td>\n",
       "      <td>Low_spent_Large_value_payments</td>\n",
       "      <td>284.6291625</td>\n",
       "      <td>Good</td>\n",
       "    </tr>\n",
       "    <tr>\n",
       "      <th>2</th>\n",
       "      <td>0x1604</td>\n",
       "      <td>CUS_0xd40</td>\n",
       "      <td>March</td>\n",
       "      <td>Aaron Maashoh</td>\n",
       "      <td>-500</td>\n",
       "      <td>821-00-0265</td>\n",
       "      <td>Scientist</td>\n",
       "      <td>19114.12</td>\n",
       "      <td>NaN</td>\n",
       "      <td>3</td>\n",
       "      <td>...</td>\n",
       "      <td>Good</td>\n",
       "      <td>809.98</td>\n",
       "      <td>28.609352</td>\n",
       "      <td>22 Years and 3 Months</td>\n",
       "      <td>No</td>\n",
       "      <td>49.574949</td>\n",
       "      <td>81.69952126</td>\n",
       "      <td>Low_spent_Medium_value_payments</td>\n",
       "      <td>331.2098629</td>\n",
       "      <td>Good</td>\n",
       "    </tr>\n",
       "    <tr>\n",
       "      <th>3</th>\n",
       "      <td>0x1605</td>\n",
       "      <td>CUS_0xd40</td>\n",
       "      <td>April</td>\n",
       "      <td>Aaron Maashoh</td>\n",
       "      <td>23</td>\n",
       "      <td>821-00-0265</td>\n",
       "      <td>Scientist</td>\n",
       "      <td>19114.12</td>\n",
       "      <td>NaN</td>\n",
       "      <td>3</td>\n",
       "      <td>...</td>\n",
       "      <td>Good</td>\n",
       "      <td>809.98</td>\n",
       "      <td>31.377862</td>\n",
       "      <td>22 Years and 4 Months</td>\n",
       "      <td>No</td>\n",
       "      <td>49.574949</td>\n",
       "      <td>199.4580744</td>\n",
       "      <td>Low_spent_Small_value_payments</td>\n",
       "      <td>223.4513097</td>\n",
       "      <td>Good</td>\n",
       "    </tr>\n",
       "    <tr>\n",
       "      <th>4</th>\n",
       "      <td>0x1606</td>\n",
       "      <td>CUS_0xd40</td>\n",
       "      <td>May</td>\n",
       "      <td>Aaron Maashoh</td>\n",
       "      <td>23</td>\n",
       "      <td>821-00-0265</td>\n",
       "      <td>Scientist</td>\n",
       "      <td>19114.12</td>\n",
       "      <td>1824.843333</td>\n",
       "      <td>3</td>\n",
       "      <td>...</td>\n",
       "      <td>Good</td>\n",
       "      <td>809.98</td>\n",
       "      <td>24.797347</td>\n",
       "      <td>22 Years and 5 Months</td>\n",
       "      <td>No</td>\n",
       "      <td>49.574949</td>\n",
       "      <td>41.42015309</td>\n",
       "      <td>High_spent_Medium_value_payments</td>\n",
       "      <td>341.489231</td>\n",
       "      <td>Good</td>\n",
       "    </tr>\n",
       "    <tr>\n",
       "      <th>...</th>\n",
       "      <td>...</td>\n",
       "      <td>...</td>\n",
       "      <td>...</td>\n",
       "      <td>...</td>\n",
       "      <td>...</td>\n",
       "      <td>...</td>\n",
       "      <td>...</td>\n",
       "      <td>...</td>\n",
       "      <td>...</td>\n",
       "      <td>...</td>\n",
       "      <td>...</td>\n",
       "      <td>...</td>\n",
       "      <td>...</td>\n",
       "      <td>...</td>\n",
       "      <td>...</td>\n",
       "      <td>...</td>\n",
       "      <td>...</td>\n",
       "      <td>...</td>\n",
       "      <td>...</td>\n",
       "      <td>...</td>\n",
       "      <td>...</td>\n",
       "    </tr>\n",
       "    <tr>\n",
       "      <th>99995</th>\n",
       "      <td>0x25fe9</td>\n",
       "      <td>CUS_0x942c</td>\n",
       "      <td>April</td>\n",
       "      <td>Nicks</td>\n",
       "      <td>25</td>\n",
       "      <td>078-73-5990</td>\n",
       "      <td>Mechanic</td>\n",
       "      <td>39628.99</td>\n",
       "      <td>3359.415833</td>\n",
       "      <td>4</td>\n",
       "      <td>...</td>\n",
       "      <td>_</td>\n",
       "      <td>502.38</td>\n",
       "      <td>34.663572</td>\n",
       "      <td>31 Years and 6 Months</td>\n",
       "      <td>No</td>\n",
       "      <td>35.104023</td>\n",
       "      <td>60.97133256</td>\n",
       "      <td>High_spent_Large_value_payments</td>\n",
       "      <td>479.866228</td>\n",
       "      <td>Poor</td>\n",
       "    </tr>\n",
       "    <tr>\n",
       "      <th>99996</th>\n",
       "      <td>0x25fea</td>\n",
       "      <td>CUS_0x942c</td>\n",
       "      <td>May</td>\n",
       "      <td>Nicks</td>\n",
       "      <td>25</td>\n",
       "      <td>078-73-5990</td>\n",
       "      <td>Mechanic</td>\n",
       "      <td>39628.99</td>\n",
       "      <td>3359.415833</td>\n",
       "      <td>4</td>\n",
       "      <td>...</td>\n",
       "      <td>_</td>\n",
       "      <td>502.38</td>\n",
       "      <td>40.565631</td>\n",
       "      <td>31 Years and 7 Months</td>\n",
       "      <td>No</td>\n",
       "      <td>35.104023</td>\n",
       "      <td>54.18595029</td>\n",
       "      <td>High_spent_Medium_value_payments</td>\n",
       "      <td>496.65161</td>\n",
       "      <td>Poor</td>\n",
       "    </tr>\n",
       "    <tr>\n",
       "      <th>99997</th>\n",
       "      <td>0x25feb</td>\n",
       "      <td>CUS_0x942c</td>\n",
       "      <td>June</td>\n",
       "      <td>Nicks</td>\n",
       "      <td>25</td>\n",
       "      <td>078-73-5990</td>\n",
       "      <td>Mechanic</td>\n",
       "      <td>39628.99</td>\n",
       "      <td>3359.415833</td>\n",
       "      <td>4</td>\n",
       "      <td>...</td>\n",
       "      <td>Good</td>\n",
       "      <td>502.38</td>\n",
       "      <td>41.255522</td>\n",
       "      <td>31 Years and 8 Months</td>\n",
       "      <td>No</td>\n",
       "      <td>35.104023</td>\n",
       "      <td>24.02847745</td>\n",
       "      <td>High_spent_Large_value_payments</td>\n",
       "      <td>516.809083</td>\n",
       "      <td>Poor</td>\n",
       "    </tr>\n",
       "    <tr>\n",
       "      <th>99998</th>\n",
       "      <td>0x25fec</td>\n",
       "      <td>CUS_0x942c</td>\n",
       "      <td>July</td>\n",
       "      <td>Nicks</td>\n",
       "      <td>25</td>\n",
       "      <td>078-73-5990</td>\n",
       "      <td>Mechanic</td>\n",
       "      <td>39628.99</td>\n",
       "      <td>3359.415833</td>\n",
       "      <td>4</td>\n",
       "      <td>...</td>\n",
       "      <td>Good</td>\n",
       "      <td>502.38</td>\n",
       "      <td>33.638208</td>\n",
       "      <td>31 Years and 9 Months</td>\n",
       "      <td>No</td>\n",
       "      <td>35.104023</td>\n",
       "      <td>251.6725822</td>\n",
       "      <td>Low_spent_Large_value_payments</td>\n",
       "      <td>319.164979</td>\n",
       "      <td>Standard</td>\n",
       "    </tr>\n",
       "    <tr>\n",
       "      <th>99999</th>\n",
       "      <td>0x25fed</td>\n",
       "      <td>CUS_0x942c</td>\n",
       "      <td>August</td>\n",
       "      <td>Nicks</td>\n",
       "      <td>25</td>\n",
       "      <td>078-73-5990</td>\n",
       "      <td>Mechanic</td>\n",
       "      <td>39628.99_</td>\n",
       "      <td>3359.415833</td>\n",
       "      <td>4</td>\n",
       "      <td>...</td>\n",
       "      <td>Good</td>\n",
       "      <td>502.38</td>\n",
       "      <td>34.192463</td>\n",
       "      <td>31 Years and 10 Months</td>\n",
       "      <td>No</td>\n",
       "      <td>35.104023</td>\n",
       "      <td>167.1638652</td>\n",
       "      <td>!@9#%8</td>\n",
       "      <td>393.673696</td>\n",
       "      <td>Poor</td>\n",
       "    </tr>\n",
       "  </tbody>\n",
       "</table>\n",
       "<p>100000 rows × 28 columns</p>\n",
       "</div>"
      ],
      "text/plain": [
       "            ID Customer_ID     Month           Name   Age          SSN  \\\n",
       "0       0x1602   CUS_0xd40   January  Aaron Maashoh    23  821-00-0265   \n",
       "1       0x1603   CUS_0xd40  February  Aaron Maashoh    23  821-00-0265   \n",
       "2       0x1604   CUS_0xd40     March  Aaron Maashoh  -500  821-00-0265   \n",
       "3       0x1605   CUS_0xd40     April  Aaron Maashoh    23  821-00-0265   \n",
       "4       0x1606   CUS_0xd40       May  Aaron Maashoh    23  821-00-0265   \n",
       "...        ...         ...       ...            ...   ...          ...   \n",
       "99995  0x25fe9  CUS_0x942c     April          Nicks    25  078-73-5990   \n",
       "99996  0x25fea  CUS_0x942c       May          Nicks    25  078-73-5990   \n",
       "99997  0x25feb  CUS_0x942c      June          Nicks    25  078-73-5990   \n",
       "99998  0x25fec  CUS_0x942c      July          Nicks    25  078-73-5990   \n",
       "99999  0x25fed  CUS_0x942c    August          Nicks    25  078-73-5990   \n",
       "\n",
       "      Occupation Annual_Income  Monthly_Inhand_Salary  Num_Bank_Accounts  ...  \\\n",
       "0      Scientist      19114.12            1824.843333                  3  ...   \n",
       "1      Scientist      19114.12                    NaN                  3  ...   \n",
       "2      Scientist      19114.12                    NaN                  3  ...   \n",
       "3      Scientist      19114.12                    NaN                  3  ...   \n",
       "4      Scientist      19114.12            1824.843333                  3  ...   \n",
       "...          ...           ...                    ...                ...  ...   \n",
       "99995   Mechanic      39628.99            3359.415833                  4  ...   \n",
       "99996   Mechanic      39628.99            3359.415833                  4  ...   \n",
       "99997   Mechanic      39628.99            3359.415833                  4  ...   \n",
       "99998   Mechanic      39628.99            3359.415833                  4  ...   \n",
       "99999   Mechanic     39628.99_            3359.415833                  4  ...   \n",
       "\n",
       "       Credit_Mix  Outstanding_Debt Credit_Utilization_Ratio  \\\n",
       "0               _            809.98                26.822620   \n",
       "1            Good            809.98                31.944960   \n",
       "2            Good            809.98                28.609352   \n",
       "3            Good            809.98                31.377862   \n",
       "4            Good            809.98                24.797347   \n",
       "...           ...               ...                      ...   \n",
       "99995           _            502.38                34.663572   \n",
       "99996           _            502.38                40.565631   \n",
       "99997        Good            502.38                41.255522   \n",
       "99998        Good            502.38                33.638208   \n",
       "99999        Good            502.38                34.192463   \n",
       "\n",
       "           Credit_History_Age  Payment_of_Min_Amount Total_EMI_per_month  \\\n",
       "0       22 Years and 1 Months                     No           49.574949   \n",
       "1                         NaN                     No           49.574949   \n",
       "2       22 Years and 3 Months                     No           49.574949   \n",
       "3       22 Years and 4 Months                     No           49.574949   \n",
       "4       22 Years and 5 Months                     No           49.574949   \n",
       "...                       ...                    ...                 ...   \n",
       "99995   31 Years and 6 Months                     No           35.104023   \n",
       "99996   31 Years and 7 Months                     No           35.104023   \n",
       "99997   31 Years and 8 Months                     No           35.104023   \n",
       "99998   31 Years and 9 Months                     No           35.104023   \n",
       "99999  31 Years and 10 Months                     No           35.104023   \n",
       "\n",
       "      Amount_invested_monthly                 Payment_Behaviour  \\\n",
       "0                 80.41529544   High_spent_Small_value_payments   \n",
       "1                 118.2802216    Low_spent_Large_value_payments   \n",
       "2                 81.69952126   Low_spent_Medium_value_payments   \n",
       "3                 199.4580744    Low_spent_Small_value_payments   \n",
       "4                 41.42015309  High_spent_Medium_value_payments   \n",
       "...                       ...                               ...   \n",
       "99995             60.97133256   High_spent_Large_value_payments   \n",
       "99996             54.18595029  High_spent_Medium_value_payments   \n",
       "99997             24.02847745   High_spent_Large_value_payments   \n",
       "99998             251.6725822    Low_spent_Large_value_payments   \n",
       "99999             167.1638652                            !@9#%8   \n",
       "\n",
       "      Monthly_Balance Credit_Score  \n",
       "0         312.4940887         Good  \n",
       "1         284.6291625         Good  \n",
       "2         331.2098629         Good  \n",
       "3         223.4513097         Good  \n",
       "4          341.489231         Good  \n",
       "...               ...          ...  \n",
       "99995      479.866228         Poor  \n",
       "99996       496.65161         Poor  \n",
       "99997      516.809083         Poor  \n",
       "99998      319.164979     Standard  \n",
       "99999      393.673696         Poor  \n",
       "\n",
       "[100000 rows x 28 columns]"
      ]
     },
     "execution_count": 1065,
     "metadata": {},
     "output_type": "execute_result"
    }
   ],
   "source": [
    "df.drop_duplicates()"
   ]
  },
  {
   "cell_type": "markdown",
   "metadata": {},
   "source": [
    "### Selecting the best columns"
   ]
  },
  {
   "cell_type": "code",
   "execution_count": 1066,
   "metadata": {},
   "outputs": [
    {
     "data": {
      "text/html": [
       "<div>\n",
       "<style scoped>\n",
       "    .dataframe tbody tr th:only-of-type {\n",
       "        vertical-align: middle;\n",
       "    }\n",
       "\n",
       "    .dataframe tbody tr th {\n",
       "        vertical-align: top;\n",
       "    }\n",
       "\n",
       "    .dataframe thead th {\n",
       "        text-align: right;\n",
       "    }\n",
       "</style>\n",
       "<table border=\"1\" class=\"dataframe\">\n",
       "  <thead>\n",
       "    <tr style=\"text-align: right;\">\n",
       "      <th></th>\n",
       "      <th>Age</th>\n",
       "      <th>Credit_Utilization_Ratio</th>\n",
       "      <th>Credit_History_Age</th>\n",
       "      <th>Payment_Behaviour</th>\n",
       "      <th>Outstanding_Debt</th>\n",
       "      <th>Num_of_Delayed_Payment</th>\n",
       "      <th>Delay_from_due_date</th>\n",
       "      <th>Annual_Income</th>\n",
       "      <th>Credit_Mix</th>\n",
       "      <th>Payment_of_Min_Amount</th>\n",
       "      <th>Credit_Score</th>\n",
       "    </tr>\n",
       "  </thead>\n",
       "  <tbody>\n",
       "    <tr>\n",
       "      <th>0</th>\n",
       "      <td>23</td>\n",
       "      <td>26.822620</td>\n",
       "      <td>22 Years and 1 Months</td>\n",
       "      <td>High_spent_Small_value_payments</td>\n",
       "      <td>809.98</td>\n",
       "      <td>7</td>\n",
       "      <td>3</td>\n",
       "      <td>19114.12</td>\n",
       "      <td>_</td>\n",
       "      <td>No</td>\n",
       "      <td>Good</td>\n",
       "    </tr>\n",
       "    <tr>\n",
       "      <th>1</th>\n",
       "      <td>23</td>\n",
       "      <td>31.944960</td>\n",
       "      <td>NaN</td>\n",
       "      <td>Low_spent_Large_value_payments</td>\n",
       "      <td>809.98</td>\n",
       "      <td>NaN</td>\n",
       "      <td>-1</td>\n",
       "      <td>19114.12</td>\n",
       "      <td>Good</td>\n",
       "      <td>No</td>\n",
       "      <td>Good</td>\n",
       "    </tr>\n",
       "    <tr>\n",
       "      <th>2</th>\n",
       "      <td>-500</td>\n",
       "      <td>28.609352</td>\n",
       "      <td>22 Years and 3 Months</td>\n",
       "      <td>Low_spent_Medium_value_payments</td>\n",
       "      <td>809.98</td>\n",
       "      <td>7</td>\n",
       "      <td>3</td>\n",
       "      <td>19114.12</td>\n",
       "      <td>Good</td>\n",
       "      <td>No</td>\n",
       "      <td>Good</td>\n",
       "    </tr>\n",
       "    <tr>\n",
       "      <th>3</th>\n",
       "      <td>23</td>\n",
       "      <td>31.377862</td>\n",
       "      <td>22 Years and 4 Months</td>\n",
       "      <td>Low_spent_Small_value_payments</td>\n",
       "      <td>809.98</td>\n",
       "      <td>4</td>\n",
       "      <td>5</td>\n",
       "      <td>19114.12</td>\n",
       "      <td>Good</td>\n",
       "      <td>No</td>\n",
       "      <td>Good</td>\n",
       "    </tr>\n",
       "    <tr>\n",
       "      <th>4</th>\n",
       "      <td>23</td>\n",
       "      <td>24.797347</td>\n",
       "      <td>22 Years and 5 Months</td>\n",
       "      <td>High_spent_Medium_value_payments</td>\n",
       "      <td>809.98</td>\n",
       "      <td>NaN</td>\n",
       "      <td>6</td>\n",
       "      <td>19114.12</td>\n",
       "      <td>Good</td>\n",
       "      <td>No</td>\n",
       "      <td>Good</td>\n",
       "    </tr>\n",
       "    <tr>\n",
       "      <th>...</th>\n",
       "      <td>...</td>\n",
       "      <td>...</td>\n",
       "      <td>...</td>\n",
       "      <td>...</td>\n",
       "      <td>...</td>\n",
       "      <td>...</td>\n",
       "      <td>...</td>\n",
       "      <td>...</td>\n",
       "      <td>...</td>\n",
       "      <td>...</td>\n",
       "      <td>...</td>\n",
       "    </tr>\n",
       "    <tr>\n",
       "      <th>99995</th>\n",
       "      <td>25</td>\n",
       "      <td>34.663572</td>\n",
       "      <td>31 Years and 6 Months</td>\n",
       "      <td>High_spent_Large_value_payments</td>\n",
       "      <td>502.38</td>\n",
       "      <td>7</td>\n",
       "      <td>23</td>\n",
       "      <td>39628.99</td>\n",
       "      <td>_</td>\n",
       "      <td>No</td>\n",
       "      <td>Poor</td>\n",
       "    </tr>\n",
       "    <tr>\n",
       "      <th>99996</th>\n",
       "      <td>25</td>\n",
       "      <td>40.565631</td>\n",
       "      <td>31 Years and 7 Months</td>\n",
       "      <td>High_spent_Medium_value_payments</td>\n",
       "      <td>502.38</td>\n",
       "      <td>7</td>\n",
       "      <td>18</td>\n",
       "      <td>39628.99</td>\n",
       "      <td>_</td>\n",
       "      <td>No</td>\n",
       "      <td>Poor</td>\n",
       "    </tr>\n",
       "    <tr>\n",
       "      <th>99997</th>\n",
       "      <td>25</td>\n",
       "      <td>41.255522</td>\n",
       "      <td>31 Years and 8 Months</td>\n",
       "      <td>High_spent_Large_value_payments</td>\n",
       "      <td>502.38</td>\n",
       "      <td>6</td>\n",
       "      <td>27</td>\n",
       "      <td>39628.99</td>\n",
       "      <td>Good</td>\n",
       "      <td>No</td>\n",
       "      <td>Poor</td>\n",
       "    </tr>\n",
       "    <tr>\n",
       "      <th>99998</th>\n",
       "      <td>25</td>\n",
       "      <td>33.638208</td>\n",
       "      <td>31 Years and 9 Months</td>\n",
       "      <td>Low_spent_Large_value_payments</td>\n",
       "      <td>502.38</td>\n",
       "      <td>NaN</td>\n",
       "      <td>20</td>\n",
       "      <td>39628.99</td>\n",
       "      <td>Good</td>\n",
       "      <td>No</td>\n",
       "      <td>Standard</td>\n",
       "    </tr>\n",
       "    <tr>\n",
       "      <th>99999</th>\n",
       "      <td>25</td>\n",
       "      <td>34.192463</td>\n",
       "      <td>31 Years and 10 Months</td>\n",
       "      <td>!@9#%8</td>\n",
       "      <td>502.38</td>\n",
       "      <td>6</td>\n",
       "      <td>18</td>\n",
       "      <td>39628.99_</td>\n",
       "      <td>Good</td>\n",
       "      <td>No</td>\n",
       "      <td>Poor</td>\n",
       "    </tr>\n",
       "  </tbody>\n",
       "</table>\n",
       "<p>100000 rows × 11 columns</p>\n",
       "</div>"
      ],
      "text/plain": [
       "        Age  Credit_Utilization_Ratio      Credit_History_Age  \\\n",
       "0        23                 26.822620   22 Years and 1 Months   \n",
       "1        23                 31.944960                     NaN   \n",
       "2      -500                 28.609352   22 Years and 3 Months   \n",
       "3        23                 31.377862   22 Years and 4 Months   \n",
       "4        23                 24.797347   22 Years and 5 Months   \n",
       "...     ...                       ...                     ...   \n",
       "99995    25                 34.663572   31 Years and 6 Months   \n",
       "99996    25                 40.565631   31 Years and 7 Months   \n",
       "99997    25                 41.255522   31 Years and 8 Months   \n",
       "99998    25                 33.638208   31 Years and 9 Months   \n",
       "99999    25                 34.192463  31 Years and 10 Months   \n",
       "\n",
       "                      Payment_Behaviour Outstanding_Debt  \\\n",
       "0       High_spent_Small_value_payments           809.98   \n",
       "1        Low_spent_Large_value_payments           809.98   \n",
       "2       Low_spent_Medium_value_payments           809.98   \n",
       "3        Low_spent_Small_value_payments           809.98   \n",
       "4      High_spent_Medium_value_payments           809.98   \n",
       "...                                 ...              ...   \n",
       "99995   High_spent_Large_value_payments           502.38   \n",
       "99996  High_spent_Medium_value_payments           502.38   \n",
       "99997   High_spent_Large_value_payments           502.38   \n",
       "99998    Low_spent_Large_value_payments           502.38   \n",
       "99999                            !@9#%8           502.38   \n",
       "\n",
       "      Num_of_Delayed_Payment  Delay_from_due_date Annual_Income Credit_Mix  \\\n",
       "0                          7                    3      19114.12          _   \n",
       "1                        NaN                   -1      19114.12       Good   \n",
       "2                          7                    3      19114.12       Good   \n",
       "3                          4                    5      19114.12       Good   \n",
       "4                        NaN                    6      19114.12       Good   \n",
       "...                      ...                  ...           ...        ...   \n",
       "99995                      7                   23      39628.99          _   \n",
       "99996                      7                   18      39628.99          _   \n",
       "99997                      6                   27      39628.99       Good   \n",
       "99998                    NaN                   20      39628.99       Good   \n",
       "99999                      6                   18     39628.99_       Good   \n",
       "\n",
       "      Payment_of_Min_Amount Credit_Score  \n",
       "0                        No         Good  \n",
       "1                        No         Good  \n",
       "2                        No         Good  \n",
       "3                        No         Good  \n",
       "4                        No         Good  \n",
       "...                     ...          ...  \n",
       "99995                    No         Poor  \n",
       "99996                    No         Poor  \n",
       "99997                    No         Poor  \n",
       "99998                    No     Standard  \n",
       "99999                    No         Poor  \n",
       "\n",
       "[100000 rows x 11 columns]"
      ]
     },
     "execution_count": 1066,
     "metadata": {},
     "output_type": "execute_result"
    }
   ],
   "source": [
    "df_new=df[['Age','Credit_Utilization_Ratio','Credit_History_Age','Payment_Behaviour','Outstanding_Debt','Num_of_Delayed_Payment','Delay_from_due_date','Annual_Income','Credit_Mix','Payment_of_Min_Amount','Credit_Score']]\n",
    "df_new"
   ]
  },
  {
   "cell_type": "code",
   "execution_count": 1067,
   "metadata": {},
   "outputs": [
    {
     "name": "stdout",
     "output_type": "stream",
     "text": [
      "<class 'pandas.core.frame.DataFrame'>\n",
      "RangeIndex: 100000 entries, 0 to 99999\n",
      "Data columns (total 11 columns):\n",
      " #   Column                    Non-Null Count   Dtype  \n",
      "---  ------                    --------------   -----  \n",
      " 0   Age                       100000 non-null  object \n",
      " 1   Credit_Utilization_Ratio  100000 non-null  float64\n",
      " 2   Credit_History_Age        90970 non-null   object \n",
      " 3   Payment_Behaviour         100000 non-null  object \n",
      " 4   Outstanding_Debt          100000 non-null  object \n",
      " 5   Num_of_Delayed_Payment    92998 non-null   object \n",
      " 6   Delay_from_due_date       100000 non-null  int64  \n",
      " 7   Annual_Income             100000 non-null  object \n",
      " 8   Credit_Mix                100000 non-null  object \n",
      " 9   Payment_of_Min_Amount     100000 non-null  object \n",
      " 10  Credit_Score              100000 non-null  object \n",
      "dtypes: float64(1), int64(1), object(9)\n",
      "memory usage: 8.4+ MB\n"
     ]
    }
   ],
   "source": [
    "df_new.info()"
   ]
  },
  {
   "cell_type": "markdown",
   "metadata": {},
   "source": [
    "### Age column\n",
    "- Invalid values: Examples include -500, 28_, 4808_, which are not valid ages.\n",
    "- Non-numeric values: Underscores (_) appear in some entries.\n"
   ]
  },
  {
   "cell_type": "code",
   "execution_count": 1068,
   "metadata": {},
   "outputs": [
    {
     "data": {
      "text/plain": [
       "array([ 23.,  nan,  28.,  34.,  54.,  55.,  21.,  31.,  33.,  30.,  24.,\n",
       "        44.,  45.,  40.,  41.,  32.,  35.,  36.,  39.,  37.,  20.,  46.,\n",
       "        26.,  42.,  19.,  48.,  38.,  43.,  22.,  16.,  18.,  15.,  27.,\n",
       "        25.,  14.,  17.,  47.,  53.,  56.,  29.,  49.,  51.,  50.,  52.,\n",
       "        99., 100.,  95.])"
      ]
     },
     "execution_count": 1068,
     "metadata": {},
     "output_type": "execute_result"
    }
   ],
   "source": [
    "# Clean the Age column\n",
    "df_new['Age']=df_new['Age'].str.replace('_','',regex=False)\n",
    "\n",
    "df_new['Age'] = pd.to_numeric(df_new['Age'], errors='coerce')    # Convert to numeric\n",
    "\n",
    "# Replace unrealistic values with NaN (e.g., negative or overly high values)\n",
    "df_new.loc[(df_new['Age'] < 0) | (df_new['Age'] > 100), 'Age'] = None\n",
    "\n",
    "cleaned_age_unique_values = df_new['Age'].unique()\n",
    "cleaned_age_unique_values\n"
   ]
  },
  {
   "cell_type": "code",
   "execution_count": 1069,
   "metadata": {},
   "outputs": [
    {
     "data": {
      "text/plain": [
       "2776"
      ]
     },
     "execution_count": 1069,
     "metadata": {},
     "output_type": "execute_result"
    }
   ],
   "source": [
    "df_new['Age'].isna().sum()"
   ]
  },
  {
   "cell_type": "code",
   "execution_count": 1070,
   "metadata": {},
   "outputs": [
    {
     "name": "stdout",
     "output_type": "stream",
     "text": [
      "<class 'pandas.core.frame.DataFrame'>\n",
      "RangeIndex: 100000 entries, 0 to 99999\n",
      "Data columns (total 11 columns):\n",
      " #   Column                    Non-Null Count   Dtype  \n",
      "---  ------                    --------------   -----  \n",
      " 0   Age                       97224 non-null   float64\n",
      " 1   Credit_Utilization_Ratio  100000 non-null  float64\n",
      " 2   Credit_History_Age        90970 non-null   object \n",
      " 3   Payment_Behaviour         100000 non-null  object \n",
      " 4   Outstanding_Debt          100000 non-null  object \n",
      " 5   Num_of_Delayed_Payment    92998 non-null   object \n",
      " 6   Delay_from_due_date       100000 non-null  int64  \n",
      " 7   Annual_Income             100000 non-null  object \n",
      " 8   Credit_Mix                100000 non-null  object \n",
      " 9   Payment_of_Min_Amount     100000 non-null  object \n",
      " 10  Credit_Score              100000 non-null  object \n",
      "dtypes: float64(2), int64(1), object(8)\n",
      "memory usage: 8.4+ MB\n"
     ]
    }
   ],
   "source": [
    "df_new.info()"
   ]
  },
  {
   "cell_type": "code",
   "execution_count": 1071,
   "metadata": {},
   "outputs": [
    {
     "data": {
      "text/plain": [
       "Outstanding_Debt    0\n",
       "Annual_Income       0\n",
       "dtype: int64"
      ]
     },
     "execution_count": 1071,
     "metadata": {},
     "output_type": "execute_result"
    }
   ],
   "source": [
    "df_new[['Outstanding_Debt', 'Annual_Income']].isnull().sum()"
   ]
  },
  {
   "cell_type": "markdown",
   "metadata": {},
   "source": [
    "### Credit_utilization_Ratio column"
   ]
  },
  {
   "cell_type": "code",
   "execution_count": 1072,
   "metadata": {},
   "outputs": [
    {
     "data": {
      "text/plain": [
       "0    26.822620\n",
       "1    31.944960\n",
       "2    28.609352\n",
       "3    31.377862\n",
       "4    24.797347\n",
       "Name: Credit_Utilization_Ratio, dtype: float64"
      ]
     },
     "execution_count": 1072,
     "metadata": {},
     "output_type": "execute_result"
    }
   ],
   "source": [
    "df_new['Credit_Utilization_Ratio'].head()\n"
   ]
  },
  {
   "cell_type": "code",
   "execution_count": 1073,
   "metadata": {},
   "outputs": [
    {
     "data": {
      "text/plain": [
       "0"
      ]
     },
     "execution_count": 1073,
     "metadata": {},
     "output_type": "execute_result"
    }
   ],
   "source": [
    "df_new['Credit_Utilization_Ratio'].isna().sum()"
   ]
  },
  {
   "cell_type": "markdown",
   "metadata": {},
   "source": [
    "### Credit history column"
   ]
  },
  {
   "cell_type": "code",
   "execution_count": 1074,
   "metadata": {},
   "outputs": [],
   "source": [
    "# Convert 'Credit_History_Age' to numerical by extracting years and months, then filling missing values\n",
    "# Extract years and months from 'Credit_History_Age' and convert to a single numerical value in months\n",
    "df_new['Credit_History_Age_Months'] = df_new['Credit_History_Age'].str.extract(r'(\\d+)').astype(float) * 12 + \\\n",
    "                                      df_new['Credit_History_Age'].str.extract(r'(\\d+)').astype(float)"
   ]
  },
  {
   "cell_type": "code",
   "execution_count": 1075,
   "metadata": {},
   "outputs": [],
   "source": [
    "# Drop the original 'Credit_History_Age' column after extraction\n",
    "df_new.drop(columns=['Credit_History_Age'], inplace=True)"
   ]
  },
  {
   "cell_type": "code",
   "execution_count": 1076,
   "metadata": {},
   "outputs": [
    {
     "data": {
      "text/plain": [
       "0    286.0\n",
       "1      NaN\n",
       "2    286.0\n",
       "3    286.0\n",
       "4    286.0\n",
       "Name: Credit_History_Age_Months, dtype: float64"
      ]
     },
     "execution_count": 1076,
     "metadata": {},
     "output_type": "execute_result"
    }
   ],
   "source": [
    "df_new['Credit_History_Age_Months'].head()"
   ]
  },
  {
   "cell_type": "code",
   "execution_count": 1077,
   "metadata": {},
   "outputs": [
    {
     "name": "stdout",
     "output_type": "stream",
     "text": [
      "<class 'pandas.core.frame.DataFrame'>\n",
      "RangeIndex: 100000 entries, 0 to 99999\n",
      "Data columns (total 11 columns):\n",
      " #   Column                     Non-Null Count   Dtype  \n",
      "---  ------                     --------------   -----  \n",
      " 0   Age                        97224 non-null   float64\n",
      " 1   Credit_Utilization_Ratio   100000 non-null  float64\n",
      " 2   Payment_Behaviour          100000 non-null  object \n",
      " 3   Outstanding_Debt           100000 non-null  object \n",
      " 4   Num_of_Delayed_Payment     92998 non-null   object \n",
      " 5   Delay_from_due_date        100000 non-null  int64  \n",
      " 6   Annual_Income              100000 non-null  object \n",
      " 7   Credit_Mix                 100000 non-null  object \n",
      " 8   Payment_of_Min_Amount      100000 non-null  object \n",
      " 9   Credit_Score               100000 non-null  object \n",
      " 10  Credit_History_Age_Months  90970 non-null   float64\n",
      "dtypes: float64(3), int64(1), object(7)\n",
      "memory usage: 8.4+ MB\n"
     ]
    }
   ],
   "source": [
    "df_new.info()"
   ]
  },
  {
   "cell_type": "markdown",
   "metadata": {},
   "source": [
    "### droping the na values"
   ]
  },
  {
   "cell_type": "code",
   "execution_count": 1078,
   "metadata": {},
   "outputs": [],
   "source": [
    "df_new=df_new.dropna(subset=['Age'])\n",
    "df_new=df_new.dropna(subset=['Credit_History_Age_Months'])\n",
    "df_new=df_new.dropna(subset=['Num_of_Delayed_Payment'])"
   ]
  },
  {
   "cell_type": "code",
   "execution_count": 1079,
   "metadata": {},
   "outputs": [
    {
     "name": "stdout",
     "output_type": "stream",
     "text": [
      "<class 'pandas.core.frame.DataFrame'>\n",
      "Index: 82239 entries, 0 to 99999\n",
      "Data columns (total 11 columns):\n",
      " #   Column                     Non-Null Count  Dtype  \n",
      "---  ------                     --------------  -----  \n",
      " 0   Age                        82239 non-null  float64\n",
      " 1   Credit_Utilization_Ratio   82239 non-null  float64\n",
      " 2   Payment_Behaviour          82239 non-null  object \n",
      " 3   Outstanding_Debt           82239 non-null  object \n",
      " 4   Num_of_Delayed_Payment     82239 non-null  object \n",
      " 5   Delay_from_due_date        82239 non-null  int64  \n",
      " 6   Annual_Income              82239 non-null  object \n",
      " 7   Credit_Mix                 82239 non-null  object \n",
      " 8   Payment_of_Min_Amount      82239 non-null  object \n",
      " 9   Credit_Score               82239 non-null  object \n",
      " 10  Credit_History_Age_Months  82239 non-null  float64\n",
      "dtypes: float64(3), int64(1), object(7)\n",
      "memory usage: 7.5+ MB\n"
     ]
    }
   ],
   "source": [
    "df_new.info()"
   ]
  },
  {
   "cell_type": "code",
   "execution_count": 1080,
   "metadata": {},
   "outputs": [
    {
     "data": {
      "text/plain": [
       "0"
      ]
     },
     "execution_count": 1080,
     "metadata": {},
     "output_type": "execute_result"
    }
   ],
   "source": [
    "df_new['Credit_History_Age_Months'].isna().sum()"
   ]
  },
  {
   "cell_type": "markdown",
   "metadata": {},
   "source": [
    " ### Payment_Behaviour, Outstanding_Debt, Num_of_Delayed_Payment columns"
   ]
  },
  {
   "cell_type": "code",
   "execution_count": 1081,
   "metadata": {},
   "outputs": [],
   "source": [
    "from sklearn.preprocessing import LabelEncoder\n",
    "encoder=LabelEncoder()\n",
    "df_new['Payment_Behaviour']=encoder.fit_transform(df_new['Payment_Behaviour']).astype('float')\n",
    "df_new['Outstanding_Debt']=encoder.fit_transform(df_new['Outstanding_Debt']).astype('float')\n",
    "df_new['Num_of_Delayed_Payment']=encoder.fit_transform(df_new['Num_of_Delayed_Payment']).astype('float')\n"
   ]
  },
  {
   "cell_type": "code",
   "execution_count": 1082,
   "metadata": {},
   "outputs": [
    {
     "data": {
      "text/plain": [
       "0"
      ]
     },
     "execution_count": 1082,
     "metadata": {},
     "output_type": "execute_result"
    }
   ],
   "source": [
    "df_new['Payment_Behaviour'].isna().sum()"
   ]
  },
  {
   "cell_type": "code",
   "execution_count": 1083,
   "metadata": {},
   "outputs": [
    {
     "data": {
      "text/plain": [
       "0"
      ]
     },
     "execution_count": 1083,
     "metadata": {},
     "output_type": "execute_result"
    }
   ],
   "source": [
    "df_new['Outstanding_Debt'].isna().sum()"
   ]
  },
  {
   "cell_type": "code",
   "execution_count": 1084,
   "metadata": {},
   "outputs": [
    {
     "data": {
      "text/plain": [
       "0"
      ]
     },
     "execution_count": 1084,
     "metadata": {},
     "output_type": "execute_result"
    }
   ],
   "source": [
    "df_new['Num_of_Delayed_Payment'].isna().sum()"
   ]
  },
  {
   "cell_type": "code",
   "execution_count": 1085,
   "metadata": {},
   "outputs": [
    {
     "name": "stdout",
     "output_type": "stream",
     "text": [
      "<class 'pandas.core.frame.DataFrame'>\n",
      "Index: 82239 entries, 0 to 99999\n",
      "Data columns (total 11 columns):\n",
      " #   Column                     Non-Null Count  Dtype  \n",
      "---  ------                     --------------  -----  \n",
      " 0   Age                        82239 non-null  float64\n",
      " 1   Credit_Utilization_Ratio   82239 non-null  float64\n",
      " 2   Payment_Behaviour          82239 non-null  float64\n",
      " 3   Outstanding_Debt           82239 non-null  float64\n",
      " 4   Num_of_Delayed_Payment     82239 non-null  float64\n",
      " 5   Delay_from_due_date        82239 non-null  int64  \n",
      " 6   Annual_Income              82239 non-null  object \n",
      " 7   Credit_Mix                 82239 non-null  object \n",
      " 8   Payment_of_Min_Amount      82239 non-null  object \n",
      " 9   Credit_Score               82239 non-null  object \n",
      " 10  Credit_History_Age_Months  82239 non-null  float64\n",
      "dtypes: float64(6), int64(1), object(4)\n",
      "memory usage: 7.5+ MB\n"
     ]
    }
   ],
   "source": [
    "\n",
    "df_new.info()"
   ]
  },
  {
   "cell_type": "markdown",
   "metadata": {},
   "source": [
    "## Delay_from_due_date column"
   ]
  },
  {
   "cell_type": "code",
   "execution_count": 1086,
   "metadata": {},
   "outputs": [
    {
     "data": {
      "text/plain": [
       "Delay_from_due_date\n",
       "-5      26\n",
       "-4      51\n",
       "-3      95\n",
       "-2     142\n",
       "-1     172\n",
       "      ... \n",
       " 63     60\n",
       " 64     50\n",
       " 65     44\n",
       " 66     26\n",
       " 67     19\n",
       "Name: count, Length: 73, dtype: int64"
      ]
     },
     "execution_count": 1086,
     "metadata": {},
     "output_type": "execute_result"
    }
   ],
   "source": [
    "df_new['Delay_from_due_date'].value_counts().sort_index()"
   ]
  },
  {
   "cell_type": "code",
   "execution_count": 1087,
   "metadata": {},
   "outputs": [
    {
     "data": {
      "text/plain": [
       "0"
      ]
     },
     "execution_count": 1087,
     "metadata": {},
     "output_type": "execute_result"
    }
   ],
   "source": [
    "df_new['Delay_from_due_date'].isna().sum()"
   ]
  },
  {
   "cell_type": "markdown",
   "metadata": {},
   "source": [
    "## Annual Income column"
   ]
  },
  {
   "cell_type": "code",
   "execution_count": 1088,
   "metadata": {},
   "outputs": [
    {
     "data": {
      "text/plain": [
       "0"
      ]
     },
     "execution_count": 1088,
     "metadata": {},
     "output_type": "execute_result"
    }
   ],
   "source": [
    "df_new['Annual_Income'].isna().sum()"
   ]
  },
  {
   "cell_type": "code",
   "execution_count": 1089,
   "metadata": {},
   "outputs": [
    {
     "data": {
      "text/plain": [
       "5735"
      ]
     },
     "execution_count": 1089,
     "metadata": {},
     "output_type": "execute_result"
    }
   ],
   "source": [
    "underScore_entries = df_new[df_new['Annual_Income'].str.contains('_')]\n",
    "underScore_entries['Annual_Income'].count()"
   ]
  },
  {
   "cell_type": "code",
   "execution_count": 1090,
   "metadata": {},
   "outputs": [],
   "source": [
    "# df['Annual_Income']=df['Annual_Income'].str.replace('_','').astype(float)\n",
    "\n",
    "df_new['Annual_Income'] = df_new['Annual_Income'].str.replace('_', '')\n",
    "\n",
    "# If 'Annual_Income' is supposed to be numeric, convert it to float\n",
    "df_new['Annual_Income'] = pd.to_numeric(df_new['Annual_Income'], errors='coerce')\n"
   ]
  },
  {
   "cell_type": "code",
   "execution_count": 1091,
   "metadata": {},
   "outputs": [
    {
     "name": "stdout",
     "output_type": "stream",
     "text": [
      "0\n"
     ]
    }
   ],
   "source": [
    "\n",
    "# Ensure the 'Annual_Income' column is of string type\n",
    "df_new['Annual_Income'] = df_new['Annual_Income'].astype(str)\n",
    "\n",
    "# Find entries with underscores in the 'Annual_Income' column\n",
    "underScore_entries = df_new[df_new['Annual_Income'].str.contains('_')]\n",
    "\n",
    "# Count the number of such entries\n",
    "underscore_count = underScore_entries['Annual_Income'].count()\n",
    "print(underscore_count)"
   ]
  },
  {
   "cell_type": "code",
   "execution_count": 1092,
   "metadata": {},
   "outputs": [
    {
     "data": {
      "text/plain": [
       "Annual_Income\n",
       "40341.16      16\n",
       "17816.75      15\n",
       "20867.67      14\n",
       "95596.35      14\n",
       "9141.63       14\n",
       "              ..\n",
       "1200455.0      1\n",
       "23229157.0     1\n",
       "20703498.0     1\n",
       "2546333.0      1\n",
       "16055942.0     1\n",
       "Name: count, Length: 13409, dtype: int64"
      ]
     },
     "execution_count": 1092,
     "metadata": {},
     "output_type": "execute_result"
    }
   ],
   "source": [
    "df_new['Annual_Income'].value_counts()"
   ]
  },
  {
   "cell_type": "markdown",
   "metadata": {},
   "source": [
    "## Credit_Mix column"
   ]
  },
  {
   "cell_type": "code",
   "execution_count": 1093,
   "metadata": {},
   "outputs": [
    {
     "data": {
      "text/plain": [
       "Credit_Mix\n",
       "Standard    30054\n",
       "Good        19968\n",
       "_           16626\n",
       "Bad         15591\n",
       "Name: count, dtype: int64"
      ]
     },
     "execution_count": 1093,
     "metadata": {},
     "output_type": "execute_result"
    }
   ],
   "source": [
    "df_new['Credit_Mix'].value_counts()"
   ]
  },
  {
   "cell_type": "code",
   "execution_count": 1094,
   "metadata": {},
   "outputs": [
    {
     "data": {
      "text/plain": [
       "82239"
      ]
     },
     "execution_count": 1094,
     "metadata": {},
     "output_type": "execute_result"
    }
   ],
   "source": [
    "df_new['Credit_Mix'].count()"
   ]
  },
  {
   "cell_type": "code",
   "execution_count": 1095,
   "metadata": {},
   "outputs": [
    {
     "data": {
      "text/plain": [
       "0"
      ]
     },
     "execution_count": 1095,
     "metadata": {},
     "output_type": "execute_result"
    }
   ],
   "source": [
    "df_new['Credit_Mix'].isna().sum()"
   ]
  },
  {
   "cell_type": "code",
   "execution_count": 1096,
   "metadata": {},
   "outputs": [],
   "source": [
    "df_new['Credit_Mix'] = df_new['Credit_Mix'].replace(\"_\",np.nan)"
   ]
  },
  {
   "cell_type": "code",
   "execution_count": 1097,
   "metadata": {},
   "outputs": [
    {
     "data": {
      "text/plain": [
       "65613"
      ]
     },
     "execution_count": 1097,
     "metadata": {},
     "output_type": "execute_result"
    }
   ],
   "source": [
    "\n",
    "df_new['Credit_Mix'].count()"
   ]
  },
  {
   "cell_type": "code",
   "execution_count": 1098,
   "metadata": {},
   "outputs": [],
   "source": [
    "from sklearn.preprocessing import LabelEncoder\n",
    "\n",
    "credit_encoder = LabelEncoder()\n",
    "df_new['Credit_Mix'] = credit_encoder.fit_transform(df_new['Credit_Mix'])"
   ]
  },
  {
   "cell_type": "code",
   "execution_count": 1099,
   "metadata": {},
   "outputs": [
    {
     "name": "stdout",
     "output_type": "stream",
     "text": [
      "<class 'pandas.core.frame.DataFrame'>\n",
      "Index: 82239 entries, 0 to 99999\n",
      "Data columns (total 11 columns):\n",
      " #   Column                     Non-Null Count  Dtype  \n",
      "---  ------                     --------------  -----  \n",
      " 0   Age                        82239 non-null  float64\n",
      " 1   Credit_Utilization_Ratio   82239 non-null  float64\n",
      " 2   Payment_Behaviour          82239 non-null  float64\n",
      " 3   Outstanding_Debt           82239 non-null  float64\n",
      " 4   Num_of_Delayed_Payment     82239 non-null  float64\n",
      " 5   Delay_from_due_date        82239 non-null  int64  \n",
      " 6   Annual_Income              82239 non-null  object \n",
      " 7   Credit_Mix                 82239 non-null  int32  \n",
      " 8   Payment_of_Min_Amount      82239 non-null  object \n",
      " 9   Credit_Score               82239 non-null  object \n",
      " 10  Credit_History_Age_Months  82239 non-null  float64\n",
      "dtypes: float64(6), int32(1), int64(1), object(3)\n",
      "memory usage: 7.2+ MB\n"
     ]
    }
   ],
   "source": [
    "df_new.info()"
   ]
  },
  {
   "cell_type": "markdown",
   "metadata": {},
   "source": [
    "## Payment_of_Min_Amount column "
   ]
  },
  {
   "cell_type": "code",
   "execution_count": 1100,
   "metadata": {},
   "outputs": [
    {
     "data": {
      "text/plain": [
       "Payment_of_Min_Amount\n",
       "Yes    43087\n",
       "No     29325\n",
       "NM      9827\n",
       "Name: count, dtype: int64"
      ]
     },
     "execution_count": 1100,
     "metadata": {},
     "output_type": "execute_result"
    }
   ],
   "source": [
    "df_new['Payment_of_Min_Amount'].value_counts()"
   ]
  },
  {
   "cell_type": "code",
   "execution_count": 1101,
   "metadata": {},
   "outputs": [
    {
     "data": {
      "text/plain": [
       "0"
      ]
     },
     "execution_count": 1101,
     "metadata": {},
     "output_type": "execute_result"
    }
   ],
   "source": [
    "df_new['Payment_of_Min_Amount'].isna().sum()"
   ]
  },
  {
   "cell_type": "markdown",
   "metadata": {},
   "source": [
    "### One hot encoding"
   ]
  },
  {
   "cell_type": "code",
   "execution_count": 1102,
   "metadata": {},
   "outputs": [],
   "source": [
    "df_new = pd.get_dummies(df_new, columns=['Payment_of_Min_Amount'], prefix='Payment_of_Min_Amount')"
   ]
  },
  {
   "cell_type": "code",
   "execution_count": 1103,
   "metadata": {},
   "outputs": [],
   "source": [
    "df_new['Payment_of_Min_Amount_NM'] = encoder.fit_transform(df_new['Payment_of_Min_Amount_NM'])\n",
    "df_new['Payment_of_Min_Amount_No'] = encoder.fit_transform(df_new['Payment_of_Min_Amount_No'])\n",
    "df_new['Payment_of_Min_Amount_Yes'] = encoder.fit_transform(df_new['Payment_of_Min_Amount_Yes'])"
   ]
  },
  {
   "cell_type": "code",
   "execution_count": 1104,
   "metadata": {},
   "outputs": [
    {
     "name": "stdout",
     "output_type": "stream",
     "text": [
      "<class 'pandas.core.frame.DataFrame'>\n",
      "Index: 82239 entries, 0 to 99999\n",
      "Data columns (total 13 columns):\n",
      " #   Column                     Non-Null Count  Dtype  \n",
      "---  ------                     --------------  -----  \n",
      " 0   Age                        82239 non-null  float64\n",
      " 1   Credit_Utilization_Ratio   82239 non-null  float64\n",
      " 2   Payment_Behaviour          82239 non-null  float64\n",
      " 3   Outstanding_Debt           82239 non-null  float64\n",
      " 4   Num_of_Delayed_Payment     82239 non-null  float64\n",
      " 5   Delay_from_due_date        82239 non-null  int64  \n",
      " 6   Annual_Income              82239 non-null  object \n",
      " 7   Credit_Mix                 82239 non-null  int32  \n",
      " 8   Credit_Score               82239 non-null  object \n",
      " 9   Credit_History_Age_Months  82239 non-null  float64\n",
      " 10  Payment_of_Min_Amount_NM   82239 non-null  int64  \n",
      " 11  Payment_of_Min_Amount_No   82239 non-null  int64  \n",
      " 12  Payment_of_Min_Amount_Yes  82239 non-null  int64  \n",
      "dtypes: float64(6), int32(1), int64(4), object(2)\n",
      "memory usage: 8.5+ MB\n"
     ]
    }
   ],
   "source": [
    "df_new.info()"
   ]
  },
  {
   "cell_type": "markdown",
   "metadata": {},
   "source": [
    "## Credit_Score column"
   ]
  },
  {
   "cell_type": "code",
   "execution_count": 1105,
   "metadata": {},
   "outputs": [
    {
     "data": {
      "text/plain": [
       "Credit_Score\n",
       "Standard    43720\n",
       "Poor        23903\n",
       "Good        14616\n",
       "Name: count, dtype: int64"
      ]
     },
     "execution_count": 1105,
     "metadata": {},
     "output_type": "execute_result"
    }
   ],
   "source": [
    "df_new['Credit_Score'].value_counts()"
   ]
  },
  {
   "cell_type": "code",
   "execution_count": 1106,
   "metadata": {},
   "outputs": [
    {
     "name": "stdout",
     "output_type": "stream",
     "text": [
      "Unique values in Credit_Score column: ['Good' 'Standard' 'Poor']\n"
     ]
    }
   ],
   "source": [
    "# Check unique values in Credit_Score column\n",
    "credit_score_unique_values = df_new['Credit_Score'].unique()\n",
    "print(\"Unique values in Credit_Score column:\", credit_score_unique_values)"
   ]
  },
  {
   "cell_type": "code",
   "execution_count": 1107,
   "metadata": {},
   "outputs": [
    {
     "name": "stdout",
     "output_type": "stream",
     "text": [
      "Missing values in Credit_Score column: 0\n"
     ]
    }
   ],
   "source": [
    "# Check for missing values in Credit_Score column\n",
    "credit_score_missing_values = df_new['Credit_Score'].isna().sum()\n",
    "print(\"Missing values in Credit_Score column:\", credit_score_missing_values)"
   ]
  },
  {
   "cell_type": "code",
   "execution_count": 1108,
   "metadata": {},
   "outputs": [],
   "source": [
    "target_mapping = {'Poor': 0, 'Standard': 1, 'Good': 2}\n",
    "df_new['Credit_Score'] = df_new['Credit_Score'].map(target_mapping)"
   ]
  },
  {
   "cell_type": "code",
   "execution_count": 1109,
   "metadata": {},
   "outputs": [],
   "source": [
    "# # Encode the Credit_Score column using LabelEncoder\n",
    "# from sklearn.preprocessing import LabelEncoder\n",
    "# credit_score_encoder = LabelEncoder()\n",
    "# df_new['Credit_Score'] = credit_score_encoder.fit_transform(df_new['Credit_Score'])"
   ]
  },
  {
   "cell_type": "code",
   "execution_count": 994,
   "metadata": {},
   "outputs": [],
   "source": []
  },
  {
   "cell_type": "code",
   "execution_count": 1110,
   "metadata": {},
   "outputs": [],
   "source": [
    "# # Verify the encoding\n",
    "# encoded_credit_score_unique_values = df_new['Credit_Score'].unique()\n",
    "# print(\"Encoded unique values in Credit_Score column:\", encoded_credit_score_unique_values)"
   ]
  },
  {
   "cell_type": "code",
   "execution_count": 1111,
   "metadata": {},
   "outputs": [
    {
     "name": "stdout",
     "output_type": "stream",
     "text": [
      "<class 'pandas.core.frame.DataFrame'>\n",
      "Index: 82239 entries, 0 to 99999\n",
      "Data columns (total 13 columns):\n",
      " #   Column                     Non-Null Count  Dtype  \n",
      "---  ------                     --------------  -----  \n",
      " 0   Age                        82239 non-null  float64\n",
      " 1   Credit_Utilization_Ratio   82239 non-null  float64\n",
      " 2   Payment_Behaviour          82239 non-null  float64\n",
      " 3   Outstanding_Debt           82239 non-null  float64\n",
      " 4   Num_of_Delayed_Payment     82239 non-null  float64\n",
      " 5   Delay_from_due_date        82239 non-null  int64  \n",
      " 6   Annual_Income              82239 non-null  object \n",
      " 7   Credit_Mix                 82239 non-null  int32  \n",
      " 8   Credit_Score               82239 non-null  object \n",
      " 9   Credit_History_Age_Months  82239 non-null  float64\n",
      " 10  Payment_of_Min_Amount_NM   82239 non-null  int64  \n",
      " 11  Payment_of_Min_Amount_No   82239 non-null  int64  \n",
      " 12  Payment_of_Min_Amount_Yes  82239 non-null  int64  \n",
      "dtypes: float64(6), int32(1), int64(4), object(2)\n",
      "memory usage: 8.5+ MB\n"
     ]
    }
   ],
   "source": [
    "# Check the dataframe info to ensure the changes\n",
    "df_new.info()"
   ]
  },
  {
   "cell_type": "markdown",
   "metadata": {},
   "source": [
    "## Correlation Matrix"
   ]
  },
  {
   "cell_type": "code",
   "execution_count": 1112,
   "metadata": {},
   "outputs": [
    {
     "data": {
      "text/plain": [
       "<Axes: >"
      ]
     },
     "execution_count": 1112,
     "metadata": {},
     "output_type": "execute_result"
    },
    {
     "data": {
      "image/png": "[encoded data removed]",
      "text/plain": [
       "<Figure size 3000x1500 with 2 Axes>"
      ]
     },
     "metadata": {},
     "output_type": "display_data"
    }
   ],
   "source": [
    "plt.figure(figsize=(20,10),dpi=150)\n",
    "sns.heatmap(df_new.corr(numeric_only=True),annot=True)"
   ]
  },
  {
   "cell_type": "markdown",
   "metadata": {},
   "source": [
    "## Pie chart of credit score"
   ]
  },
  {
   "cell_type": "code",
   "execution_count": 1113,
   "metadata": {},
   "outputs": [
    {
     "data": {
      "image/png": "[encoded data removed]",
      "text/plain": [
       "<Figure size 800x800 with 1 Axes>"
      ]
     },
     "metadata": {},
     "output_type": "display_data"
    }
   ],
   "source": [
    "credit_score_counts = df_new['Credit_Score'].value_counts()\n",
    "\n",
    "# Plotting the pie chart\n",
    "plt.figure(figsize=(8, 8))\n",
    "plt.pie(credit_score_counts, labels=credit_score_counts.index, autopct='%1.1f%%', startangle=140)\n",
    "plt.title('Distribution of Credit Score')\n",
    "plt.show()"
   ]
  },
  {
   "cell_type": "markdown",
   "metadata": {},
   "source": [
    "## final dataset csv of df_new"
   ]
  },
  {
   "cell_type": "code",
   "execution_count": 1114,
   "metadata": {},
   "outputs": [],
   "source": [
    "df_new.to_csv('df_new.csv', index=False)"
   ]
  },
  {
   "cell_type": "code",
   "execution_count": 1115,
   "metadata": {},
   "outputs": [],
   "source": [
    "# Assuming df_new is your DataFrame\n",
    "df_new.to_csv('df_new.csv', index=False)"
   ]
  }
 ],
 "metadata": {
  "kernelspec": {
   "display_name": "Python 3",
   "language": "python",
   "name": "python3"
  },
  "language_info": {
   "codemirror_mode": {
    "name": "ipython",
    "version": 3
   },
   "file_extension": ".py",
   "mimetype": "text/x-python",
   "name": "python",
   "nbconvert_exporter": "python",
   "pygments_lexer": "ipython3",
   "version": "3.12.6"
  }
 },
 "nbformat": 4,
 "nbformat_minor": 2
}
